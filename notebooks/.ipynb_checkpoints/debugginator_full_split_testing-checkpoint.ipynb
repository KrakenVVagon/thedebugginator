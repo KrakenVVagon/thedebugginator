{
 "cells": [
  {
   "cell_type": "code",
   "execution_count": 1,
   "id": "669fbc57",
   "metadata": {},
   "outputs": [
    {
     "name": "stderr",
     "output_type": "stream",
     "text": [
      "2022-01-11 17:00:04.573638: W tensorflow/stream_executor/platform/default/dso_loader.cc:64] Could not load dynamic library 'libcudart.so.11.0'; dlerror: libcudart.so.11.0: cannot open shared object file: No such file or directory\n",
      "2022-01-11 17:00:04.573695: I tensorflow/stream_executor/cuda/cudart_stub.cc:29] Ignore above cudart dlerror if you do not have a GPU set up on your machine.\n"
     ]
    }
   ],
   "source": [
    "import numpy as np\n",
    "import pandas as pd\n",
    "import tensorflow as tf\n",
    "\n",
    "from tensorflow.keras import layers, losses\n",
    "from tensorflow.keras.models import Model\n",
    "from sklearn.metrics import accuracy_score, precision_score, recall_score\n",
    "from sklearn.model_selection import train_test_split"
   ]
  },
  {
   "cell_type": "code",
   "execution_count": 2,
   "id": "0506c0a3",
   "metadata": {},
   "outputs": [],
   "source": [
    "def extract_feature_columns(df):\n",
    "    '''Removes all default columns (contexts as well as fields like profileid which come in every event)'''\n",
    "    ndf = df.copy()\n",
    "    ndf.columns = [x.split('.')[1] for x in df.columns]\n",
    "    default_cols = ['appid','spaceid','sessionid','playersessionid',\n",
    "                    'profileid','totalplaytime','userid','clientip','countrycode',\n",
    "                    'absoluteplaytime','relativeplaytime','release','app_name','spacename',\n",
    "                    'country','business_region','geo_continent','subcontinent','region',\n",
    "                    'serverdate','p_dateid','createddate','environment',\n",
    "                    'installmentname','issampled','offline','eventid'\n",
    "                   ]\n",
    "    cols = [c for c in ndf.columns if \"context\" not in c and c not in default_cols]\n",
    "    return ndf[cols]"
   ]
  },
  {
   "cell_type": "code",
   "execution_count": 3,
   "id": "700c2a2a",
   "metadata": {},
   "outputs": [],
   "source": [
    "# convert raw data to some interim steps\n",
    "raw_path = '~/thedebugginator/data/raw'\n",
    "\n",
    "bug_file = '{}/drone_melee_kills_1000.csv'.format(raw_path)\n",
    "proper_file = '{}/drone_bullet_proper_10k.csv'.format(raw_path)\n",
    "\n",
    "bug_df = pd.read_csv(bug_file)\n",
    "proper_df = pd.read_csv(proper_file)\n",
    "\n",
    "bug_df = extract_feature_columns(bug_df)\n",
    "proper_df = extract_feature_columns(proper_df)\n",
    "\n",
    "bug_df['label'] = 0\n",
    "proper_df['label'] = 1\n",
    "\n",
    "raw_df = pd.concat([proper_df,bug_df])\n",
    "\n",
    "# now we are mostly done. need to identify numerical features, categorical features and remove old/useless features\n",
    "bad_cols = ['enemyarchdescription','combatweaponusedname','combattypeofkillname',\n",
    "            'playerheatlevel','powerlevel','enemylvl','copfelony','crimfelony','factionid'\n",
    "           ]\n",
    "\n",
    "raw_df.drop(bad_cols,inplace=True,axis=1)\n",
    "\n",
    "numerical_features = ['ai_positionx','ai_positiony','ai_positionz',\n",
    "                       'playerpositionx','playerpositiony','playerpositionz',\n",
    "                       'killdist'\n",
    "                      ]\n",
    "\n",
    "categorical_features = [c for c in raw_df.columns if c not in numerical_features and c != 'label']\n",
    "\n",
    "# turn categorical features into string data (easy for looping later)\n",
    "raw_df.fillna(value={'combattakedown':0,'takedownstate':0},inplace=True)\n",
    "raw_df[categorical_features] = raw_df[categorical_features].astype(str)\n",
    "\n",
    "labels = raw_df.pop('label')\n",
    "\n",
    "train_data, test_data, train_labels, test_labels = train_test_split(raw_df,labels,test_size=0.2,random_state=7)"
   ]
  },
  {
   "cell_type": "code",
   "execution_count": 4,
   "id": "5d1316d7",
   "metadata": {},
   "outputs": [],
   "source": [
    "# save the interim dataframes as examples\n",
    "interim_path = '~/thedebugginator/data/interim'\n",
    "\n",
    "train_data.to_csv(f'{interim_path}/full_training_data.csv')\n",
    "test_data.to_csv(f'{interim_path}/full_testing_data.csv')\n",
    "train_labels.to_csv(f'{interim_path}/full_training_labels.csv')\n",
    "test_labels.to_csv(f'{interim_path}/full_testing_labels.csv')\n",
    "\n",
    "# finish the preprocessing of the data\n",
    "train_labels = train_labels.astype(bool)\n",
    "test_labels = test_labels.astype(bool)\n",
    "\n",
    "normal_train_data =  train_data[train_labels]\n",
    "normal_test_data = test_data[test_labels]\n",
    "\n",
    "bug_train_data = train_data[~train_labels]\n",
    "bug_test_data = test_data[~test_labels]\n",
    "\n",
    "normal_train_data.to_csv(f'{interim_path}/normal_training_data.csv')\n",
    "normal_test_data.to_csv(f'{interim_path}/normal_testing_data.csv')\n",
    "bug_train_data.to_csv(f'{interim_path}/bug_training_data.csv')\n",
    "bug_test_data.to_csv(f'{interim_path}/bug_testing_data.csv')"
   ]
  },
  {
   "cell_type": "code",
   "execution_count": 5,
   "id": "295f16ab",
   "metadata": {},
   "outputs": [
    {
     "name": "stderr",
     "output_type": "stream",
     "text": [
      "2022-01-11 17:00:06.707513: W tensorflow/stream_executor/platform/default/dso_loader.cc:64] Could not load dynamic library 'libcuda.so.1'; dlerror: libcuda.so.1: cannot open shared object file: No such file or directory\n",
      "2022-01-11 17:00:06.707583: W tensorflow/stream_executor/cuda/cuda_driver.cc:269] failed call to cuInit: UNKNOWN ERROR (303)\n",
      "2022-01-11 17:00:06.707607: I tensorflow/stream_executor/cuda/cuda_diagnostics.cc:156] kernel driver does not appear to be running on this host (54819584958e): /proc/driver/nvidia/version does not exist\n",
      "2022-01-11 17:00:06.707826: I tensorflow/core/platform/cpu_feature_guard.cc:151] This TensorFlow binary is optimized with oneAPI Deep Neural Network Library (oneDNN) to use the following CPU instructions in performance-critical operations:  AVX2 FMA\n",
      "To enable them in other operations, rebuild TensorFlow with the appropriate compiler flags.\n"
     ]
    }
   ],
   "source": [
    "numerical_inputs = []\n",
    "categorical_inputs = []\n",
    "normalized_features = []\n",
    "encoded_features = []\n",
    "\n",
    "for n in numerical_features:\n",
    "    numerical_input = layers.Input(shape=(1,),dtype=tf.float32)\n",
    "    normalizer = layers.Normalization()\n",
    "    normalizer.adapt(normal_train_data[n])\n",
    "    normalized = normalizer(numerical_input)\n",
    "    numerical_inputs.append(numerical_input)\n",
    "    normalized_features.append(normalized)\n",
    "\n",
    "for c in categorical_features:\n",
    "    categorical_input = layers.Input(shape=(1,),dtype=tf.string)\n",
    "    onehot = layers.StringLookup(output_mode='one_hot')\n",
    "    onehot.adapt(normal_train_data[c])\n",
    "    encoded = onehot(categorical_input)\n",
    "    categorical_inputs.append(categorical_input)\n",
    "    encoded_features.append(encoded)\n",
    "\n",
    "predict_list = []\n",
    "for col in numerical_features+categorical_features:\n",
    "    predict_list.append(normal_train_data[col])\n",
    "\n",
    "output = layers.concatenate(normalized_features + encoded_features)\n",
    "preprocesser = Model(inputs=numerical_inputs+categorical_inputs,outputs=[output])\n",
    "predicted = preprocesser.predict(predict_list)\n",
    "\n",
    "# save final preprocessing\n",
    "processed_path = '~/thedebugginator/data/processed'\n",
    "processed_df = pd.DataFrame(predicted)\n",
    "processed_df.to_csv(f'{processed_path}/preprocessed_normal_training_data.csv',header=None,index=None)"
   ]
  },
  {
   "cell_type": "code",
   "execution_count": 6,
   "id": "55092bfb",
   "metadata": {},
   "outputs": [],
   "source": [
    "class AnomalyDetector(Model):\n",
    "    def __init__(self):\n",
    "        super(AnomalyDetector,self).__init__()\n",
    "        \n",
    "        self.encoder = tf.keras.Sequential([\n",
    "            layers.Dense(32,activation='relu'),\n",
    "            layers.Dense(16,activation='relu'),\n",
    "            layers.Dense(4,activation='relu')\n",
    "        ])\n",
    "        \n",
    "        self.decoder = tf.keras.Sequential([\n",
    "            layers.Dense(16,activation='relu'),\n",
    "            layers.Dense(32,activation='relu'),\n",
    "            layers.Dense(157,activation='sigmoid')\n",
    "        ])\n",
    "        \n",
    "    def call(self,x):\n",
    "        encoded = self.encoder(x)\n",
    "        decoded = self.decoder(encoded)\n",
    "        return decoded"
   ]
  },
  {
   "cell_type": "code",
   "execution_count": 7,
   "id": "a1e91a20",
   "metadata": {},
   "outputs": [],
   "source": [
    "autoencoder = AnomalyDetector()\n",
    "autoencoder.compile(optimizer='adam',loss='mae')"
   ]
  },
  {
   "cell_type": "code",
   "execution_count": 18,
   "id": "1972094a",
   "metadata": {},
   "outputs": [
    {
     "name": "stdout",
     "output_type": "stream",
     "text": [
      "Epoch 1/20\n",
      "16/16 [==============================] - 0s 6ms/step - loss: 0.0575 - val_loss: 0.0595\n",
      "Epoch 2/20\n",
      "16/16 [==============================] - 0s 4ms/step - loss: 0.0573 - val_loss: 0.0593\n",
      "Epoch 3/20\n",
      "16/16 [==============================] - 0s 4ms/step - loss: 0.0569 - val_loss: 0.0587\n",
      "Epoch 4/20\n",
      "16/16 [==============================] - 0s 4ms/step - loss: 0.0562 - val_loss: 0.0579\n",
      "Epoch 5/20\n",
      "16/16 [==============================] - 0s 4ms/step - loss: 0.0553 - val_loss: 0.0569\n",
      "Epoch 6/20\n",
      "16/16 [==============================] - 0s 4ms/step - loss: 0.0543 - val_loss: 0.0560\n",
      "Epoch 7/20\n",
      "16/16 [==============================] - 0s 4ms/step - loss: 0.0535 - val_loss: 0.0555\n",
      "Epoch 8/20\n",
      "16/16 [==============================] - 0s 5ms/step - loss: 0.0531 - val_loss: 0.0552\n",
      "Epoch 9/20\n",
      "16/16 [==============================] - 0s 4ms/step - loss: 0.0529 - val_loss: 0.0550\n",
      "Epoch 10/20\n",
      "16/16 [==============================] - 0s 4ms/step - loss: 0.0527 - val_loss: 0.0548\n",
      "Epoch 11/20\n",
      "16/16 [==============================] - 0s 5ms/step - loss: 0.0524 - val_loss: 0.0545\n",
      "Epoch 12/20\n",
      "16/16 [==============================] - 0s 6ms/step - loss: 0.0522 - val_loss: 0.0544\n",
      "Epoch 13/20\n",
      "16/16 [==============================] - 0s 5ms/step - loss: 0.0521 - val_loss: 0.0542\n",
      "Epoch 14/20\n",
      "16/16 [==============================] - 0s 4ms/step - loss: 0.0520 - val_loss: 0.0542\n",
      "Epoch 15/20\n",
      "16/16 [==============================] - 0s 4ms/step - loss: 0.0520 - val_loss: 0.0541\n",
      "Epoch 16/20\n",
      "16/16 [==============================] - 0s 5ms/step - loss: 0.0520 - val_loss: 0.0541\n",
      "Epoch 17/20\n",
      "16/16 [==============================] - 0s 4ms/step - loss: 0.0519 - val_loss: 0.0541\n",
      "Epoch 18/20\n",
      "16/16 [==============================] - 0s 5ms/step - loss: 0.0519 - val_loss: 0.0541\n",
      "Epoch 19/20\n",
      "16/16 [==============================] - 0s 4ms/step - loss: 0.0519 - val_loss: 0.0541\n",
      "Epoch 20/20\n",
      "16/16 [==============================] - 0s 4ms/step - loss: 0.0519 - val_loss: 0.0540\n"
     ]
    }
   ],
   "source": [
    "normal_trainer = predicted\n",
    "predict_list = []\n",
    "for col in numerical_features+categorical_features:\n",
    "    predict_list.append(test_data[col])\n",
    "full_test_data = preprocesser.predict(predict_list)\n",
    "\n",
    "history = autoencoder.fit(normal_trainer, normal_trainer, \n",
    "          epochs=20, \n",
    "          batch_size=512,\n",
    "          validation_data=(full_test_data, full_test_data),\n",
    "          shuffle=True)"
   ]
  },
  {
   "cell_type": "code",
   "execution_count": 19,
   "id": "3f90eb9a",
   "metadata": {},
   "outputs": [
    {
     "data": {
      "text/plain": [
       "<matplotlib.legend.Legend at 0x7f11fcbf4310>"
      ]
     },
     "execution_count": 19,
     "metadata": {},
     "output_type": "execute_result"
    },
    {
     "data": {
      "image/png": "[encoded data removed]",
      "text/plain": [
       "<Figure size 432x288 with 1 Axes>"
      ]
     },
     "metadata": {
      "needs_background": "light"
     },
     "output_type": "display_data"
    }
   ],
   "source": [
    "import matplotlib.pyplot as plt\n",
    "plt.plot(history.history[\"loss\"], label=\"Training Loss\")\n",
    "plt.plot(history.history[\"val_loss\"], label=\"Validation Loss\")\n",
    "plt.legend()"
   ]
  },
  {
   "cell_type": "code",
   "execution_count": 20,
   "id": "1d1d50a5",
   "metadata": {},
   "outputs": [
    {
     "data": {
      "image/png": "[encoded data removed]",
      "text/plain": [
       "<Figure size 432x288 with 1 Axes>"
      ]
     },
     "metadata": {
      "needs_background": "light"
     },
     "output_type": "display_data"
    }
   ],
   "source": [
    "reconstructions = autoencoder.predict(normal_trainer)\n",
    "train_loss = tf.keras.losses.mae(reconstructions, normal_trainer)\n",
    "\n",
    "plt.hist(train_loss[None,:], bins=25)\n",
    "plt.xlabel(\"Train loss\")\n",
    "plt.ylabel(\"No of examples\")\n",
    "plt.show()"
   ]
  },
  {
   "cell_type": "code",
   "execution_count": 21,
   "id": "5714d043",
   "metadata": {},
   "outputs": [
    {
     "name": "stdout",
     "output_type": "stream",
     "text": [
      "Threshold:  0.074650005\n"
     ]
    }
   ],
   "source": [
    "threshold = np.mean(train_loss) + np.std(train_loss)\n",
    "print(\"Threshold: \", threshold)"
   ]
  },
  {
   "cell_type": "code",
   "execution_count": 22,
   "id": "1138ff77",
   "metadata": {},
   "outputs": [
    {
     "data": {
      "image/png": "[encoded data removed]",
      "text/plain": [
       "<Figure size 432x288 with 1 Axes>"
      ]
     },
     "metadata": {
      "needs_background": "light"
     },
     "output_type": "display_data"
    }
   ],
   "source": [
    "predict_list = []\n",
    "for col in numerical_features+categorical_features:\n",
    "    predict_list.append(bug_test_data[col])\n",
    "anomalous_test_data = preprocesser.predict(predict_list)\n",
    "\n",
    "reconstructions = autoencoder.predict(anomalous_test_data)\n",
    "test_loss = tf.keras.losses.mae(reconstructions, anomalous_test_data)\n",
    "\n",
    "plt.hist(test_loss[None, :], bins=10)\n",
    "plt.xlabel(\"Test loss\")\n",
    "plt.ylabel(\"No of examples\")\n",
    "plt.show()"
   ]
  },
  {
   "cell_type": "code",
   "execution_count": 23,
   "id": "ec56b482",
   "metadata": {},
   "outputs": [],
   "source": [
    "def predict(model, data, threshold):\n",
    "    reconstructions = model(data)\n",
    "    loss = tf.keras.losses.mae(reconstructions, data)\n",
    "    return tf.math.less(loss, threshold)\n",
    "\n",
    "def print_stats(predictions, labels):\n",
    "    accuracy = accuracy_score(labels, predictions)\n",
    "    precision= precision_score(labels, predictions)\n",
    "    recall = recall_score(labels, predictions)\n",
    "    \n",
    "    return accuracy,precision,recall"
   ]
  },
  {
   "cell_type": "code",
   "execution_count": 24,
   "id": "a6fe111a",
   "metadata": {},
   "outputs": [
    {
     "name": "stdout",
     "output_type": "stream",
     "text": [
      "A: 0.8081818181818182\n",
      "P: 0.9529889727219966\n",
      "R: 0.8280383257690368\n",
      "F1 : 0.8861305990286023\n"
     ]
    }
   ],
   "source": [
    "preds = predict(autoencoder, full_test_data, threshold)\n",
    "accuracy,precision,recall = print_stats(preds, test_labels)\n",
    "print('A: {}'.format(accuracy))\n",
    "print('P: {}'.format(precision))\n",
    "print('R: {}'.format(recall))\n",
    "print('F1 : {}'.format(2*precision*recall/(precision+recall)))"
   ]
  },
  {
   "cell_type": "code",
   "execution_count": 25,
   "id": "d0734b9d",
   "metadata": {},
   "outputs": [
    {
     "name": "stdout",
     "output_type": "stream",
     "text": [
      "INFO:tensorflow:Assets written to: /root/thedebugginator/models/example_autoencoder/assets\n",
      "WARNING:tensorflow:Compiled the loaded model, but the compiled metrics have yet to be built. `model.compile_metrics` will be empty until you train or evaluate the model.\n",
      "INFO:tensorflow:Assets written to: /root/thedebugginator/models/example_preprocesser_onehot/assets\n"
     ]
    }
   ],
   "source": [
    "# save the preprocessor and autoencoder\n",
    "model_path = '/root/thedebugginator/models'\n",
    "autoencoder.save(f'{model_path}/example_autoencoder')\n",
    "preprocesser.save(f'{model_path}/example_preprocesser_onehot')"
   ]
  },
  {
   "cell_type": "code",
   "execution_count": null,
   "id": "ec655c93",
   "metadata": {},
   "outputs": [],
   "source": []
  }
 ],
 "metadata": {
  "kernelspec": {
   "display_name": "Python 3 (ipykernel)",
   "language": "python",
   "name": "python3"
  },
  "language_info": {
   "codemirror_mode": {
    "name": "ipython",
    "version": 3
   },
   "file_extension": ".py",
   "mimetype": "text/x-python",
   "name": "python",
   "nbconvert_exporter": "python",
   "pygments_lexer": "ipython3",
   "version": "3.9.7"
  }
 },
 "nbformat": 4,
 "nbformat_minor": 5
}
