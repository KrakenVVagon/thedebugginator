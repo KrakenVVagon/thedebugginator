{
 "cells": [
  {
   "cell_type": "code",
   "execution_count": 2,
   "id": "a4ddc87e",
   "metadata": {},
   "outputs": [],
   "source": [
    "import numpy as np\n",
    "import pandas as pd\n",
    "import tensorflow as tf\n",
    "\n",
    "from tensorflow.keras import layers, losses\n",
    "from tensorflow.keras.models import Model"
   ]
  },
  {
   "cell_type": "markdown",
   "id": "281da19e",
   "metadata": {},
   "source": [
    "# Data Prep"
   ]
  },
  {
   "cell_type": "code",
   "execution_count": 3,
   "id": "867e4a3c",
   "metadata": {},
   "outputs": [],
   "source": [
    "def extract_feature_columns(df):\n",
    "    '''Removes all default columns (contexts as well as fields like profileid which come in every event)'''\n",
    "    ndf = df.copy()\n",
    "    ndf.columns = [x.split('.')[1] for x in df.columns]\n",
    "    default_cols = ['appid','spaceid','sessionid','playersessionid',\n",
    "                    'profileid','totalplaytime','userid','clientip','countrycode',\n",
    "                    'absoluteplaytime','relativeplaytime','release','app_name','spacename',\n",
    "                    'country','business_region','geo_continent','subcontinent','region',\n",
    "                    'serverdate','p_dateid','createddate','environment',\n",
    "                    'installmentname','issampled','offline','eventid'\n",
    "                   ]\n",
    "    cols = [c for c in ndf.columns if \"context\" not in c and c not in default_cols]\n",
    "    return ndf[cols]"
   ]
  },
  {
   "cell_type": "code",
   "execution_count": 16,
   "id": "67c4dac7",
   "metadata": {},
   "outputs": [],
   "source": [
    "datapath = '~/edo-autoencoder/datasets'\n",
    "\n",
    "bug_file = '{}/drone_melee_kills_1000.csv'.format(datapath)\n",
    "proper_file = '{}/drone_bullet_proper_10k.csv'.format(datapath)\n",
    "\n",
    "bug_df = pd.read_csv(bug_file)\n",
    "proper_df = pd.read_csv(proper_file)\n",
    "\n",
    "bug_df = extract_feature_columns(bug_df)\n",
    "proper_df = extract_feature_columns(proper_df)\n",
    "\n",
    "bug_df['label'] = 0\n",
    "proper_df['label'] = 1\n",
    "\n",
    "df = pd.concat([proper_df])\n",
    "\n",
    "# now we are mostly done. need to identify numerical features, categorical features and remove old/useless features\n",
    "bad_cols = ['enemyarchdescription','combatweaponusedname','combattypeofkillname',\n",
    "            'playerheatlevel','powerlevel','enemylvl','copfelony','crimfelony','factionid'\n",
    "           ]\n",
    "\n",
    "df.drop(bad_cols,inplace=True,axis=1)\n",
    "\n",
    "numerical_features = ['ai_positionx','ai_positiony','ai_positionz',\n",
    "                       'playerpositionx','playerpositiony','playerpositionz',\n",
    "                       'killdist'\n",
    "                      ]\n",
    "\n",
    "categorical_features = [c for c in df.columns if c not in numerical_features and c != 'label']\n",
    "\n",
    "# turn categorical features into string data (easy for looping later)\n",
    "df[categorical_features] = df[categorical_features].astype(str)\n",
    "\n",
    "# identify the target column for supervised learning\n",
    "target = 'label'"
   ]
  },
  {
   "cell_type": "markdown",
   "id": "a9fdbba4",
   "metadata": {},
   "source": [
    "# Preprocessing Layers\n",
    "\n",
    "Now our dataframe is ready to be put into a tensorflow pipeline. The general model pipline will look something like this:\n",
    "\n",
    "1. Inputs in the form of df above\n",
    "2. Preprocessing layer to encode the categorical features as necessary and noramlize numerical features\n",
    "3. Take preprocessed layer and toss into the autoencoder"
   ]
  },
  {
   "cell_type": "code",
   "execution_count": 20,
   "id": "35b44e2c",
   "metadata": {},
   "outputs": [],
   "source": [
    "numerical_inputs = []\n",
    "categorical_inputs = []\n",
    "normalized_features = []\n",
    "encoded_features = []\n",
    "\n",
    "for n in numerical_features:\n",
    "    numerical_input = layers.Input(shape=(1,),dtype=tf.float32)\n",
    "    normalizer = layers.Normalization()\n",
    "    normalizer.adapt(df[n])\n",
    "    normalized = normalizer(numerical_input)\n",
    "    numerical_inputs.append(numerical_input)\n",
    "    normalized_features.append(normalized)\n",
    "\n",
    "for c in categorical_features:\n",
    "    categorical_input = layers.Input(shape=(1,),dtype=tf.string)\n",
    "    onehot = layers.StringLookup(output_mode='one_hot')\n",
    "    onehot.adapt(df[c])\n",
    "    encoded = onehot(categorical_input)\n",
    "    categorical_inputs.append(categorical_input)\n",
    "    encoded_features.append(encoded)\n",
    "\n",
    "predict_list = []\n",
    "for col in numerical_features+categorical_features:\n",
    "    predict_list.append(df[col])\n",
    "\n",
    "output = layers.concatenate(normalized_features + encoded_features)\n",
    "preprocesser = Model(inputs=numerical_inputs+categorical_inputs,outputs=[output])\n",
    "predicted = preprocesser.predict(predict_list)"
   ]
  },
  {
   "cell_type": "markdown",
   "id": "620d245f",
   "metadata": {},
   "source": [
    "# Build Anomaly Detector\n",
    "\n",
    "Now that we have constructed a nice increased dimension version of the original data. Normalized all the numerical values and one-hot encoded all the categorical features. Now we can construct a neural network to detect bugged events."
   ]
  },
  {
   "cell_type": "code",
   "execution_count": 32,
   "id": "a875c06b",
   "metadata": {},
   "outputs": [],
   "source": [
    "class AnomalyDetector(Model):\n",
    "    def __init__(self):\n",
    "        super(AnomalyDetector,self).__init__()\n",
    "        self.encoder =  tf.keras.Sequential([\n",
    "            layers.Dense(80,activation='relu'),\n",
    "            layers.Dense(40,activation='relu'),\n",
    "            layers.Dense(20,activation='relu'),\n",
    "            layers.Dense(10,activation='relu'),\n",
    "            layers.Dense(5,activation='relu')\n",
    "        ])\n",
    "        \n",
    "        self.decoder = tf.keras.Sequential([\n",
    "            layers.Dense(10,activation='relu'),\n",
    "            layers.Dense(20,activation='relu'),\n",
    "            layers.Dense(40,activation='relu'),\n",
    "            layers.Dense(80,activation='relu'),\n",
    "            layers.Dense(161,activation='relu'),\n",
    "        ])\n",
    "        \n",
    "    def call(self,x):\n",
    "        encoded = self.encoder(x)\n",
    "        decoded = self.decoder(encoded)\n",
    "        return decoded"
   ]
  },
  {
   "cell_type": "code",
   "execution_count": 35,
   "id": "9159b8f6",
   "metadata": {},
   "outputs": [
    {
     "name": "stdout",
     "output_type": "stream",
     "text": [
      "Epoch 1/20\n",
      "20/20 [==============================] - 0s 6ms/step - loss: 0.1008\n",
      "Epoch 2/20\n",
      "20/20 [==============================] - 0s 6ms/step - loss: 0.0985\n",
      "Epoch 3/20\n",
      "20/20 [==============================] - 0s 6ms/step - loss: 0.0926\n",
      "Epoch 4/20\n",
      "20/20 [==============================] - 0s 6ms/step - loss: 0.0714\n",
      "Epoch 5/20\n",
      "20/20 [==============================] - 0s 6ms/step - loss: 0.0639\n",
      "Epoch 6/20\n",
      "20/20 [==============================] - 0s 6ms/step - loss: 0.0626\n",
      "Epoch 7/20\n",
      "20/20 [==============================] - 0s 5ms/step - loss: 0.0616\n",
      "Epoch 8/20\n",
      "20/20 [==============================] - 0s 5ms/step - loss: 0.0601\n",
      "Epoch 9/20\n",
      "20/20 [==============================] - 0s 4ms/step - loss: 0.0585\n",
      "Epoch 10/20\n",
      "20/20 [==============================] - 0s 5ms/step - loss: 0.0575\n",
      "Epoch 11/20\n",
      "20/20 [==============================] - 0s 4ms/step - loss: 0.0574\n",
      "Epoch 12/20\n",
      "20/20 [==============================] - 0s 4ms/step - loss: 0.0572\n",
      "Epoch 13/20\n",
      "20/20 [==============================] - 0s 4ms/step - loss: 0.0570\n",
      "Epoch 14/20\n",
      "20/20 [==============================] - 0s 4ms/step - loss: 0.0569\n",
      "Epoch 15/20\n",
      "20/20 [==============================] - 0s 5ms/step - loss: 0.0569\n",
      "Epoch 16/20\n",
      "20/20 [==============================] - 0s 4ms/step - loss: 0.0567\n",
      "Epoch 17/20\n",
      "20/20 [==============================] - 0s 4ms/step - loss: 0.0564\n",
      "Epoch 18/20\n",
      "20/20 [==============================] - 0s 5ms/step - loss: 0.0553\n",
      "Epoch 19/20\n",
      "20/20 [==============================] - 0s 5ms/step - loss: 0.0546\n",
      "Epoch 20/20\n",
      "20/20 [==============================] - 0s 5ms/step - loss: 0.0543\n"
     ]
    }
   ],
   "source": [
    "a = AnomalyDetector()\n",
    "a.compile(optimizer='adam',loss='mae')\n",
    "history = a.fit(predicted,predicted,\n",
    "                epochs=20,\n",
    "                batch_size=512,\n",
    "                shuffle=True\n",
    "               )"
   ]
  },
  {
   "cell_type": "code",
   "execution_count": 36,
   "id": "4c5d632d",
   "metadata": {},
   "outputs": [
    {
     "data": {
      "text/plain": [
       "<matplotlib.legend.Legend at 0x7f200e80aeb0>"
      ]
     },
     "execution_count": 36,
     "metadata": {},
     "output_type": "execute_result"
    },
    {
     "data": {
      "image/png": "[encoded data removed]",
      "text/plain": [
       "<Figure size 432x288 with 1 Axes>"
      ]
     },
     "metadata": {
      "needs_background": "light"
     },
     "output_type": "display_data"
    }
   ],
   "source": [
    "import matplotlib.pyplot as plt\n",
    "plt.plot(history.history[\"loss\"], label=\"Training Loss\")\n",
    "plt.legend()"
   ]
  },
  {
   "cell_type": "code",
   "execution_count": null,
   "id": "65a6040a",
   "metadata": {},
   "outputs": [],
   "source": []
  }
 ],
 "metadata": {
  "kernelspec": {
   "display_name": "Python 3 (ipykernel)",
   "language": "python",
   "name": "python3"
  },
  "language_info": {
   "codemirror_mode": {
    "name": "ipython",
    "version": 3
   },
   "file_extension": ".py",
   "mimetype": "text/x-python",
   "name": "python",
   "nbconvert_exporter": "python",
   "pygments_lexer": "ipython3",
   "version": "3.9.7"
  }
 },
 "nbformat": 4,
 "nbformat_minor": 5
}
