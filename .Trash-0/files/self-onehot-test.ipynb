{
 "cells": [
  {
   "cell_type": "code",
   "execution_count": 2,
   "id": "30d44b1d",
   "metadata": {},
   "outputs": [],
   "source": [
    "import numpy as np\n",
    "import pandas as pd\n",
    "import tensorflow as tf\n",
    "\n",
    "from sklearn.metrics import accuracy_score, precision_score, recall_score\n",
    "from sklearn.model_selection import train_test_split\n",
    "from sklearn.preprocessing import OneHotEncoder\n",
    "from tensorflow.keras import layers, losses\n",
    "from tensorflow.keras.datasets import fashion_mnist\n",
    "from tensorflow.keras.models import Model"
   ]
  },
  {
   "cell_type": "markdown",
   "id": "8b8541fd",
   "metadata": {},
   "source": [
    "Testing using a custom class as a layer to do the encoding inside of the autoencoder model. Will be made with some foobar data."
   ]
  },
  {
   "cell_type": "code",
   "execution_count": 11,
   "id": "a8327616",
   "metadata": {},
   "outputs": [],
   "source": [
    "class OneHotEncodingLayer(layers.StringLookup):\n",
    "    def __init__(self,max_tokens=None,output_mode='one_hot'):\n",
    "        super().__init__(max_tokens=max_tokens,output_mode=output_mode)\n",
    "        self.max_tokens = max_tokens\n",
    "        self.output_mode = output_mode\n",
    "            \n",
    "    def adapt(self,data):\n",
    "        self.vectorization.adapt(data)\n",
    "        vocab = self.vectorization.get_vocabulary()\n",
    "        self.depth = len(vocab)\n",
    "        indices = [i[0] for i in self.vectorization([[v] for v in vocab]).numpy()]\n",
    "        self.minimum = min(indices)\n",
    "        \n",
    "    def call(self,inputs):\n",
    "        vectorized = self.vectorization.call(inputs)\n",
    "        subtracted = tf.subtract(vectorized, tf.constant([self.minimum], dtype=tf.int64))\n",
    "        encoded = tf.one_hot(subtracted, self.max_tokens)\n",
    "        return layers.Reshape((self.max_tokens,))(encoded)\n",
    "        \n",
    "    def get_config(self):\n",
    "        return {\n",
    "            \"max_tokens\":self.max_tokens,\n",
    "            \"output_mode\":self.output_mode,\n",
    "            \"vocabulary\":self.vectorization.get_vocabulary()\n",
    "        }"
   ]
  },
  {
   "cell_type": "code",
   "execution_count": 29,
   "id": "cff7b8f2",
   "metadata": {
    "scrolled": false
   },
   "outputs": [
    {
     "name": "stdout",
     "output_type": "stream",
     "text": [
      "WARNING:tensorflow:5 out of the last 5 calls to <function Model.make_predict_function.<locals>.predict_function at 0x7f0de84b10d0> triggered tf.function retracing. Tracing is expensive and the excessive number of tracings could be due to (1) creating @tf.function repeatedly in a loop, (2) passing tensors with different shapes, (3) passing Python objects instead of tensors. For (1), please define your @tf.function outside of the loop. For (2), @tf.function has experimental_relax_shapes=True option that relaxes argument shapes that can avoid unnecessary retracing. For (3), please refer to https://www.tensorflow.org/guide/function#controlling_retracing and https://www.tensorflow.org/api_docs/python/tf/function for  more details.\n",
      "[[5. 0. 1. 0. 0. 0. 0. 1.]\n",
      " [6. 0. 0. 0. 1. 0. 1. 0.]\n",
      " [1. 0. 1. 0. 0. 0. 0. 1.]\n",
      " [2. 0. 0. 1. 0. 0. 1. 0.]]\n"
     ]
    }
   ],
   "source": [
    "df = pd.DataFrame({\n",
    "    \"number\":[5,6,1,2],\n",
    "    \"colour\":[\"red\",\"blue\",\"red\",\"yellow\"],\n",
    "    \"size\":['large','medium','large','medium']\n",
    "})\n",
    "\n",
    "categorical_input = layers.Input(shape=(1,), dtype=tf.string)\n",
    "one_hot_layer = layers.StringLookup(output_mode='one_hot')\n",
    "one_hot_layer.adapt(df['colour'].values)\n",
    "encoded = one_hot_layer(categorical_input)\n",
    "\n",
    "categorical_input2 = layers.Input(shape=(1,), dtype=tf.string)\n",
    "one_hot_layer2 = layers.StringLookup(output_mode='one_hot')\n",
    "one_hot_layer2.adapt(df['size'].values)\n",
    "encoded2 = one_hot_layer2(categorical_input2)\n",
    "\n",
    "numeric_input = layers.Input(shape=(1,), dtype=tf.float32)\n",
    "\n",
    "concat = layers.concatenate([numeric_input, encoded, encoded2])\n",
    "\n",
    "model = Model(inputs=[numeric_input, categorical_input, categorical_input2], outputs=[concat])\n",
    "predicted = model.predict([df['number'], df['colour'], df['size']])\n",
    "print(predicted)"
   ]
  },
  {
   "cell_type": "code",
   "execution_count": 43,
   "id": "0ae1abca",
   "metadata": {},
   "outputs": [],
   "source": [
    "class AnomalyDetector(Model):\n",
    "    def __init__(self):\n",
    "        super(AnomalyDetector,self).__init__()\n",
    "        self.encoder = tf.keras.Sequential([\n",
    "            layers.Dense(6,activation='relu'),\n",
    "            layers.Dense(3,activation='relu'),\n",
    "            layers.Dense(2,activation='relu')\n",
    "        ])\n",
    "        \n",
    "        self.decoder = tf.keras.Sequential([\n",
    "            layers.Dense(3,activation='relu'),\n",
    "            layers.Dense(6,activation='relu'),\n",
    "            layers.Dense(8,activation='sigmoid')\n",
    "        ])\n",
    "        \n",
    "    def call(self,x):\n",
    "        encoded = self.encoder(x)\n",
    "        decoded = self.decoder(encoded)\n",
    "        return decoded"
   ]
  },
  {
   "cell_type": "code",
   "execution_count": 45,
   "id": "1a730566",
   "metadata": {},
   "outputs": [
    {
     "name": "stdout",
     "output_type": "stream",
     "text": [
      "Epoch 1/3\n",
      "4/4 [==============================] - 0s 2ms/step - loss: 0.8124\n",
      "Epoch 2/3\n",
      "4/4 [==============================] - 0s 2ms/step - loss: 0.8119\n",
      "Epoch 3/3\n",
      "4/4 [==============================] - 0s 2ms/step - loss: 0.8115\n"
     ]
    }
   ],
   "source": [
    "a = AnomalyDetector()\n",
    "a.compile(optimizer='adam',loss='mae')\n",
    "history = a.fit(predicted,predicted,\n",
    "                epochs=3,\n",
    "                batch_size=1,\n",
    "                shuffle=True\n",
    "               )"
   ]
  },
  {
   "cell_type": "code",
   "execution_count": 46,
   "id": "400f8a8a",
   "metadata": {},
   "outputs": [
    {
     "data": {
      "text/plain": [
       "<matplotlib.legend.Legend at 0x7f0e8c500cd0>"
      ]
     },
     "execution_count": 46,
     "metadata": {},
     "output_type": "execute_result"
    },
    {
     "data": {
      "image/png": "[encoded data removed]",
      "text/plain": [
       "<Figure size 432x288 with 1 Axes>"
      ]
     },
     "metadata": {
      "needs_background": "light"
     },
     "output_type": "display_data"
    }
   ],
   "source": [
    "import matplotlib.pyplot as plt\n",
    "plt.plot(history.history[\"loss\"], label=\"Training Loss\")\n",
    "plt.legend()"
   ]
  },
  {
   "cell_type": "code",
   "execution_count": 47,
   "id": "81cebf73",
   "metadata": {},
   "outputs": [
    {
     "data": {
      "text/plain": [
       "<keras.callbacks.History at 0x7f0e8c500d90>"
      ]
     },
     "execution_count": 47,
     "metadata": {},
     "output_type": "execute_result"
    }
   ],
   "source": [
    "history"
   ]
  },
  {
   "cell_type": "code",
   "execution_count": null,
   "id": "b2af6d08",
   "metadata": {},
   "outputs": [],
   "source": []
  }
 ],
 "metadata": {
  "kernelspec": {
   "display_name": "Python 3 (ipykernel)",
   "language": "python",
   "name": "python3"
  },
  "language_info": {
   "codemirror_mode": {
    "name": "ipython",
    "version": 3
   },
   "file_extension": ".py",
   "mimetype": "text/x-python",
   "name": "python",
   "nbconvert_exporter": "python",
   "pygments_lexer": "ipython3",
   "version": "3.9.7"
  }
 },
 "nbformat": 4,
 "nbformat_minor": 5
}
